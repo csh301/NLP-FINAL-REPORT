{
  "nbformat": 4,
  "nbformat_minor": 0,
  "metadata": {
    "colab": {
      "name": "Untitled14.ipynb",
      "private_outputs": true,
      "provenance": []
    },
    "kernelspec": {
      "name": "python3",
      "display_name": "Python 3"
    }
  },
  "cells": [
    {
      "cell_type": "code",
      "metadata": {
        "id": "JsWmxd0swq1a"
      },
      "source": [
        "import numpy as np\r\n",
        "import pandas as pd\r\n",
        "import re\r\n",
        "import matplotlib.pyplot as plt"
      ],
      "execution_count": null,
      "outputs": []
    },
    {
      "cell_type": "code",
      "metadata": {
        "id": "qXtDEqMbMkN_"
      },
      "source": [
        "!pip install konlpy"
      ],
      "execution_count": null,
      "outputs": []
    },
    {
      "cell_type": "code",
      "metadata": {
        "id": "p1nQAvXYxfqM"
      },
      "source": [
        "# test dataset upload\r\n",
        "from google.colab import files\r\n",
        "myfile = files.upload()"
      ],
      "execution_count": null,
      "outputs": []
    },
    {
      "cell_type": "code",
      "metadata": {
        "id": "A5cCT4kx28tJ"
      },
      "source": [
        "!unzip kordata.zip"
      ],
      "execution_count": null,
      "outputs": []
    },
    {
      "cell_type": "code",
      "metadata": {
        "id": "PlP7a2c3xCns"
      },
      "source": [
        "data = pd.read_csv('kordata.csv', encoding = 'cp949')"
      ],
      "execution_count": null,
      "outputs": []
    },
    {
      "cell_type": "code",
      "metadata": {
        "id": "Njq09gQWx21x"
      },
      "source": [
        "data.head(3)"
      ],
      "execution_count": null,
      "outputs": []
    },
    {
      "cell_type": "code",
      "metadata": {
        "id": "HGLVavlFx5cx"
      },
      "source": [
        "data2 = list(data.document)\r\n",
        "data2[0:2]"
      ],
      "execution_count": null,
      "outputs": []
    },
    {
      "cell_type": "code",
      "metadata": {
        "id": "L0M05TUsyMjD"
      },
      "source": [
        "##구두점 제거\r\n",
        "from string import punctuation\r\n",
        "def strip_pumctuation(s):\r\n",
        "    return ''.join(c for c in s if c not in punctuation)\r\n",
        "\r\n",
        "clean_title = []\r\n",
        "for sent in data2 :\r\n",
        "    clean = strip_pumctuation(sent)\r\n",
        "    clean_title.append(clean)\r\n",
        "\r\n",
        "clean_title[0:1]                 \r\n"
      ],
      "execution_count": null,
      "outputs": []
    },
    {
      "cell_type": "code",
      "metadata": {
        "id": "qViamRkMMWRM"
      },
      "source": [
        "from konlpy.tag import Kkma\r\n",
        "kkma = Kkma()"
      ],
      "execution_count": null,
      "outputs": []
    },
    {
      "cell_type": "code",
      "metadata": {
        "id": "gunsFzKsMz2-"
      },
      "source": [
        "import time\r\n",
        "import datetime\r\n",
        "start = time.time()"
      ],
      "execution_count": null,
      "outputs": []
    },
    {
      "cell_type": "code",
      "metadata": {
        "id": "8JkidF14Ovaa"
      },
      "source": [
        "dataset = []\r\n",
        "for i in range(len(clean_title)) :\r\n",
        "      dataset.append(kkma.nouns(re.sub('[^가-힣a-zA-Z\\s]', '' , clean_title[i])))\r\n",
        "\r\n",
        "\r\n",
        "sec = time.time()-start\r\n",
        "times = str(datetime.timedelta(seconds=sec)),split(\".\")\r\n",
        "times = times[0]\r\n",
        "print(times)"
      ],
      "execution_count": null,
      "outputs": []
    },
    {
      "cell_type": "code",
      "metadata": {
        "id": "P_pBLTM6Ovjc"
      },
      "source": [
        "clean_title2 = []\r\n",
        "for i in range(len(clean_title)) :\r\n",
        "    clean_title2.append(re.sub('영화','',clean_title[i]))\r\n",
        "\r\n",
        "clean_title3 = []\r\n",
        "for i in range(len(clean_title2)) :\r\n",
        "    clean_title2.append(re.sub('내용','',clean_title2[i]))"
      ],
      "execution_count": null,
      "outputs": []
    },
    {
      "cell_type": "code",
      "metadata": {
        "id": "1JM0tuFnQfbk"
      },
      "source": [
        "!pip install gensim\r\n",
        "from gensim import corpora, models\r\n",
        "import gensim"
      ],
      "execution_count": null,
      "outputs": []
    },
    {
      "cell_type": "code",
      "metadata": {
        "id": "ESUX9AODQrNU"
      },
      "source": [
        "high_score_reviews = dataset"
      ],
      "execution_count": null,
      "outputs": []
    },
    {
      "cell_type": "code",
      "metadata": {
        "id": "dHZPOATaQvGg"
      },
      "source": [
        "high_score_reviews = [[y for y in x if not len(y)==1]\r\n",
        "                      for x in high_score_reviews]\r\n",
        "dictionary = corpora.Dictionary(high_score_reviews)\r\n",
        "corpus = [dictionary.doc2bow(text) for text in high_score_reviews]"
      ],
      "execution_count": null,
      "outputs": []
    },
    {
      "cell_type": "code",
      "metadata": {
        "id": "hC5EdhLsQvKp"
      },
      "source": [
        "import matplotlib.pyplot as plt\r\n",
        "from gensim.models import CoherenceModel\r\n",
        "\r\n",
        "coherence_values = []\r\n",
        "for i in range(2,15) :\r\n",
        "    Idamodel = gensim.models.Idamodel.LdaModel(corpus, num_topics = i, id2word = dictionary)\r\n",
        "    coherence_model_Ida = CoherenceModel(model = Idamodel, texts = high_score_reviews, dictionary, topn=10)\r\n",
        "    coherence_Ida = coherence_model_Ida.get_coherence()\r\n",
        "    coherence_values.append(coherence_Ida)"
      ],
      "execution_count": null,
      "outputs": []
    },
    {
      "cell_type": "code",
      "metadata": {
        "id": "8jL0V7AqTEJX"
      },
      "source": [
        "x = range(2,15)\r\n",
        "plt.plot(x,coherence_values)\r\n",
        "plt.xlabel(\"number of topics\")\r\n",
        "plt.ylabel(\"coherence score\")\r\n",
        "plt.show()          "
      ],
      "execution_count": null,
      "outputs": []
    },
    {
      "cell_type": "code",
      "metadata": {
        "id": "mAhiAAczTan7"
      },
      "source": [
        "import matplotlib.pyplot as plt\r\n",
        "perplexity_values = []\r\n",
        "for i in range(2,20) :\r\n",
        "    Idamodel = gensim.models.Idamodel.LdaModel(corpus, num_topics=i, id2word=dictionary)\r\n",
        "    perplexity_values.append(Idamodel.log_perplexity(corpus))\r\n",
        "    "
      ],
      "execution_count": null,
      "outputs": []
    },
    {
      "cell_type": "code",
      "metadata": {
        "id": "l_W7u_eHQveT"
      },
      "source": [
        "x=range(2,20)\r\n",
        "plt.plot(x,perplexity_values)\r\n",
        "plt.xlabel(\"number of topics\")\r\n",
        "plt.ylabel(\"perplexity score\")\r\n",
        "plt.show()      "
      ],
      "execution_count": null,
      "outputs": []
    },
    {
      "cell_type": "code",
      "metadata": {
        "id": "rAOkWdv-QviN"
      },
      "source": [
        "# 결과 바탕으로 갯수 수정\r\n",
        "Idamodel = gensim.models.Idamodel.LdaModel(corpus, num_topics=6, alpha=0.1,\r\n",
        "                                           id2word=dictionary)"
      ],
      "execution_count": null,
      "outputs": []
    },
    {
      "cell_type": "code",
      "metadata": {
        "id": "nuCFskSiVOu9"
      },
      "source": [
        "Idamodel.print_topics(num_words=20)"
      ],
      "execution_count": null,
      "outputs": []
    },
    {
      "cell_type": "code",
      "metadata": {
        "id": "CM_F5L1WVPXb"
      },
      "source": [
        "import pyLDAvis\r\n",
        "import pyLDAvis.gensim\r\n",
        "\r\n",
        "pyLDAvis.enable_notebook()\r\n",
        "vis = pyLDAvis.gensim.prepare(Idamodel, corpus, dictionary)\r\n",
        "vis"
      ],
      "execution_count": null,
      "outputs": []
    },
    {
      "cell_type": "code",
      "metadata": {
        "id": "gAe9v6dAVPcT"
      },
      "source": [
        ""
      ],
      "execution_count": null,
      "outputs": []
    },
    {
      "cell_type": "code",
      "metadata": {
        "id": "9n_lz40LQvmK"
      },
      "source": [
        ""
      ],
      "execution_count": null,
      "outputs": []
    }
  ]
}