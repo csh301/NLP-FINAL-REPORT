{
  "nbformat": 4,
  "nbformat_minor": 0,
  "metadata": {
    "colab": {
      "name": "LDA Topicmodeling(KOR).ipynb",
      "private_outputs": true,
      "provenance": [],
      "machine_shape": "hm"
    },
    "kernelspec": {
      "name": "python3",
      "display_name": "Python 3"
    },
    "accelerator": "GPU"
  },
  "cells": [
    {
      "cell_type": "code",
      "metadata": {
        "id": "JsWmxd0swq1a"
      },
      "source": [
        "import numpy as np\r\n",
        "import pandas as pd\r\n",
        "import re\r\n",
        "import matplotlib.pyplot as plt"
      ],
      "execution_count": null,
      "outputs": []
    },
    {
      "cell_type": "code",
      "metadata": {
        "id": "qXtDEqMbMkN_"
      },
      "source": [
        "!pip install konlpy"
      ],
      "execution_count": null,
      "outputs": []
    },
    {
      "cell_type": "code",
      "metadata": {
        "id": "p1nQAvXYxfqM"
      },
      "source": [
        "# test dataset upload\r\n",
        "from google.colab import files\r\n",
        "myfile = files.upload()"
      ],
      "execution_count": null,
      "outputs": []
    },
    {
      "cell_type": "code",
      "metadata": {
        "id": "A5cCT4kx28tJ"
      },
      "source": [
        "!unzip kordata.zip"
      ],
      "execution_count": null,
      "outputs": []
    },
    {
      "cell_type": "code",
      "metadata": {
        "id": "PlP7a2c3xCns"
      },
      "source": [
        "data = pd.read_csv('kordata.csv', encoding = 'cp949')"
      ],
      "execution_count": null,
      "outputs": []
    },
    {
      "cell_type": "code",
      "metadata": {
        "id": "Njq09gQWx21x"
      },
      "source": [
        "data.head(3)"
      ],
      "execution_count": null,
      "outputs": []
    },
    {
      "cell_type": "code",
      "metadata": {
        "id": "HGLVavlFx5cx"
      },
      "source": [
        "data2 = list(data.document)\r\n",
        "data2[0:2]"
      ],
      "execution_count": null,
      "outputs": []
    },
    {
      "cell_type": "code",
      "metadata": {
        "id": "L0M05TUsyMjD"
      },
      "source": [
        "##구두점 제거\r\n",
        "from string import punctuation\r\n",
        "def strip_pumctuation(s):\r\n",
        "    return ''.join(c for c in s if c not in punctuation)\r\n",
        "\r\n",
        "clean_title = []\r\n",
        "for sent in data2 :\r\n",
        "    clean = strip_pumctuation(sent)\r\n",
        "    clean_title.append(clean)\r\n",
        "\r\n",
        "clean_title[0:1]                 \r\n"
      ],
      "execution_count": null,
      "outputs": []
    },
    {
      "cell_type": "code",
      "metadata": {
        "id": "qViamRkMMWRM"
      },
      "source": [
        "from konlpy.tag import Kkma\r\n",
        "kkma = Kkma()"
      ],
      "execution_count": null,
      "outputs": []
    },
    {
      "cell_type": "code",
      "metadata": {
        "id": "gunsFzKsMz2-"
      },
      "source": [
        "import time\r\n",
        "import datetime\r\n",
        "start = time.time()"
      ],
      "execution_count": null,
      "outputs": []
    },
    {
      "cell_type": "code",
      "metadata": {
        "id": "H7lhmseqlS5p"
      },
      "source": [
        "#데이터 프레임의 'Sentence' 열의 값들을 str 형식으로 바꾸기\r\n",
        "data.document = data.document.astype(str)\r\n",
        "\r\n",
        "#데이터 프레임의 'Sentence' 열의 값 중 keyword1이나 keyword 2가 포함된 행만 Data에 저장\r\n",
        "clean_data = data.loc[data['document'].str.contains('keyword1|keyword2')]\r\n",
        "\r\n",
        "#데이터 프레임의 'Sentence' 열의 값 중 keyword1이나 keyword 2가 포함된 행은 삭제\r\n",
        "clean_data = data[data['document'].str.contains('keyword1|keyword2')]\r\n",
        "\r\n",
        "\r\n",
        "#Sentence와 열을 기준으로 중복된 데이터를 삭제, inplace : 데이터 프레임을 변경할지 선택(원본을 대체)\r\n",
        "clean_data.drop_duplicates(subset=['document'], inplace=True)\r\n",
        "\r\n",
        "#한글이 아니면 빈 문자열로 바꾸기\r\n",
        "clean_data['document'] = clean_data['document'].str.replace('[^ㄱ-ㅎㅏ-ㅣ가-힣]',' ',regex=True)\r\n",
        "\r\n",
        "#빈 문자열 NAN 값으로 바꾸기\r\n",
        "clean_data = clean_data.replace({'': np.nan})\r\n",
        "clean_data = clean_data.replace(r'^\\s*$', None, regex=True)\r\n",
        "\r\n",
        "#NAN 이 있는 행은 삭제\r\n",
        "clean_data.dropna(how='any', inplace=True)\r\n",
        "\r\n",
        "#인덱스 차곡차곡\r\n",
        "clean_data = clean_data.reset_index (drop = True)\r\n",
        "\r\n",
        "#데이터 프레임에 null 값이 있는지 확인\r\n",
        "print(clean_data.isnull().values.any()) "
      ],
      "execution_count": null,
      "outputs": []
    },
    {
      "cell_type": "code",
      "metadata": {
        "id": "8JkidF14Ovaa"
      },
      "source": [
        "dataset = []\r\n",
        "for i in range(len(clean_title)) :\r\n",
        "      dataset.append(kkma.nouns(re.sub('[^가-힣a-zA-Z\\s]', '' , clean_title[i])))\r\n",
        "\r\n",
        "\r\n",
        "sec = time.time()-start\r\n",
        "times = str(datetime.timedelta(seconds=sec)),split(\".\")\r\n",
        "times = times[0]\r\n",
        "print(times)"
      ],
      "execution_count": null,
      "outputs": []
    },
    {
      "cell_type": "code",
      "metadata": {
        "id": "P_pBLTM6Ovjc"
      },
      "source": [
        "clean_title2 = []\r\n",
        "for i in range(len(clean_title)) :\r\n",
        "    clean_title2.append(re.sub('영화','',clean_title[i]))\r\n",
        "\r\n",
        "clean_title3 = []\r\n",
        "for i in range(len(clean_title2)) :\r\n",
        "    clean_title2.append(re.sub('내용','',clean_title2[i]))"
      ],
      "execution_count": null,
      "outputs": []
    },
    {
      "cell_type": "code",
      "metadata": {
        "id": "1JM0tuFnQfbk"
      },
      "source": [
        "!pip install gensim\r\n",
        "from gensim import corpora, models\r\n",
        "import gensim"
      ],
      "execution_count": null,
      "outputs": []
    },
    {
      "cell_type": "code",
      "metadata": {
        "id": "ESUX9AODQrNU"
      },
      "source": [
        "high_score_reviews = dataset"
      ],
      "execution_count": null,
      "outputs": []
    },
    {
      "cell_type": "code",
      "metadata": {
        "id": "dHZPOATaQvGg"
      },
      "source": [
        "high_score_reviews = [[y for y in x if not len(y)==1]\r\n",
        "                      for x in high_score_reviews]\r\n",
        "dictionary = corpora.Dictionary(high_score_reviews)\r\n",
        "corpus = [dictionary.doc2bow(text) for text in high_score_reviews]"
      ],
      "execution_count": null,
      "outputs": []
    },
    {
      "cell_type": "code",
      "metadata": {
        "id": "hC5EdhLsQvKp"
      },
      "source": [
        "import matplotlib.pyplot as plt\r\n",
        "from gensim.models import CoherenceModel\r\n",
        "\r\n",
        "coherence_values = []\r\n",
        "for i in range(2,15) :\r\n",
        "    ldamodel = gensim.models.ldamodel.LdaModel(corpus, num_topics = i, id2word = dictionary)\r\n",
        "    coherence_model_lda = CoherenceModel(model = ldamodel, texts = high_score_reviews, dictionary=dictionary, topn=10)\r\n",
        "    coherence_lda = coherence_model_lda.get_coherence()\r\n",
        "    coherence_values.append(coherence_lda)"
      ],
      "execution_count": null,
      "outputs": []
    },
    {
      "cell_type": "code",
      "metadata": {
        "id": "8jL0V7AqTEJX"
      },
      "source": [
        "x = range(2,15)\r\n",
        "plt.plot(x,coherence_values)\r\n",
        "plt.xlabel(\"number of topics\")\r\n",
        "plt.ylabel(\"coherence score\")\r\n",
        "plt.show()          "
      ],
      "execution_count": null,
      "outputs": []
    },
    {
      "cell_type": "code",
      "metadata": {
        "id": "mAhiAAczTan7"
      },
      "source": [
        "import matplotlib.pyplot as plt\r\n",
        "perplexity_values = []\r\n",
        "for i in range(2,20) :\r\n",
        "    Idamodel = gensim.models.ldamodel.LdaModel(corpus, num_topics=i, id2word=dictionary)\r\n",
        "    perplexity_values.append(ldamodel.log_perplexity(corpus))\r\n"
      ],
      "execution_count": null,
      "outputs": []
    },
    {
      "cell_type": "code",
      "metadata": {
        "id": "l_W7u_eHQveT"
      },
      "source": [
        "x=range(2,20)\r\n",
        "plt.plot(x,perplexity_values)\r\n",
        "plt.xlabel(\"number of topics\")\r\n",
        "plt.ylabel(\"perplexity score\")\r\n",
        "plt.show()      "
      ],
      "execution_count": null,
      "outputs": []
    },
    {
      "cell_type": "code",
      "metadata": {
        "id": "rAOkWdv-QviN"
      },
      "source": [
        "# 결과 바탕으로 갯수 수정\r\n",
        "ldamodel = gensim.models.ldamodel.LdaModel(corpus, num_topics=6, alpha=0.1,\r\n",
        "                                           id2word=dictionary)"
      ],
      "execution_count": null,
      "outputs": []
    },
    {
      "cell_type": "code",
      "metadata": {
        "id": "nuCFskSiVOu9"
      },
      "source": [
        "Idamodel.print_topics(num_words=20)"
      ],
      "execution_count": null,
      "outputs": []
    },
    {
      "cell_type": "code",
      "metadata": {
        "id": "gPuweOlFp_7L"
      },
      "source": [
        "pip install pyLDAvis"
      ],
      "execution_count": null,
      "outputs": []
    },
    {
      "cell_type": "code",
      "metadata": {
        "id": "CM_F5L1WVPXb"
      },
      "source": [
        "import pyLDAvis.gensim\r\n",
        "\r\n",
        "pyLDAvis.enable_notebook()\r\n",
        "vis = pyLDAvis.gensim.prepare(ldamodel, corpus, dictionary)\r\n",
        "vis"
      ],
      "execution_count": null,
      "outputs": []
    },
    {
      "cell_type": "code",
      "metadata": {
        "id": "gAe9v6dAVPcT"
      },
      "source": [
        "kk=ldamodel.show_topic(3,topn=90000)\r\n",
        "type(ldamodel.show_topic)\r\n",
        "kk2=pd.DataFrame(kk)\r\n",
        "kk2.head(10)\r\n"
      ],
      "execution_count": null,
      "outputs": []
    },
    {
      "cell_type": "code",
      "metadata": {
        "id": "vaIMJP_oq32V"
      },
      "source": [
        "from google.colab import drive\r\n",
        "\r\n",
        "drive.mount('/content/gdrive') "
      ],
      "execution_count": null,
      "outputs": []
    },
    {
      "cell_type": "code",
      "metadata": {
        "id": "9n_lz40LQvmK"
      },
      "source": [
        "kk2.to_csv('test8.csv',encoding=\"euc-kr\")"
      ],
      "execution_count": null,
      "outputs": []
    },
    {
      "cell_type": "code",
      "metadata": {
        "id": "h6D86WlBrpeh"
      },
      "source": [
        "from google.colab import files\r\n",
        "\r\n",
        "files.download('test8.csv')"
      ],
      "execution_count": null,
      "outputs": []
    },
    {
      "cell_type": "code",
      "metadata": {
        "id": "alOCTfPWXG5t"
      },
      "source": [
        "def make_topictable_per_doc(ldamodel, corpus) :\r\n",
        "    topic_table = pd.DataFrame()\r\n",
        "\r\n",
        "    for i, topic_list in enumerate(ldamodel[corpus]) :\r\n",
        "        doc=topic_list[0] if ldamodel.per_word_topics else topic_list\r\n",
        "        doc = sorted(doc, key=lambda x: (x[1]),reverse=True)\r\n",
        "        #각문서에 대해 비중이 높은 토픽순으로 정렬\r\n",
        "\r\n",
        "    #모든문서에 대해 수행\r\n",
        "        for j, (topic_num, prop_topic) in enumerate(doc) :\r\n",
        "           if j == 0:\r\n",
        "               topic_table = topic_table.append(pd.Series([int(topic_num),round(prop_topic,4), topic_list]), ignore_index=True)\r\n",
        "           else:\r\n",
        "              break\r\n",
        "    return(topic_table)\r\n",
        "       "
      ],
      "execution_count": null,
      "outputs": []
    },
    {
      "cell_type": "code",
      "metadata": {
        "id": "fJNgtHXxtdcB"
      },
      "source": [
        "topictable = make_topictable_per_doc(ldamodel, corpus)\r\n",
        "topictable = topictable.reset_index()\r\n",
        "topictable.columns = ['문서번호', '가장비중이 높은 토픽', '가장 높은 토픽의 비중', '각 토픽의 비중']\r\n"
      ],
      "execution_count": null,
      "outputs": []
    },
    {
      "cell_type": "code",
      "metadata": {
        "id": "KUqe7WPat6G7"
      },
      "source": [
        "topictable.to_csv(\"topdoc1.csv\", encoding=\"euc-kr\",index=False)"
      ],
      "execution_count": null,
      "outputs": []
    },
    {
      "cell_type": "code",
      "metadata": {
        "id": "FMoG5pd_uMjQ"
      },
      "source": [
        "from google.colab import files\r\n",
        "\r\n",
        "files.download('topdoc1.csv')"
      ],
      "execution_count": null,
      "outputs": []
    }
  ]
}