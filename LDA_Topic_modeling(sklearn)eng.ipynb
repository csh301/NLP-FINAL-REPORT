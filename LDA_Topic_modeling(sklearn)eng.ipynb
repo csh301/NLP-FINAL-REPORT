{
  "nbformat": 4,
  "nbformat_minor": 0,
  "metadata": {
    "colab": {
      "name": "LDA Topic modeling(sklearn)eng.ipynb",
      "private_outputs": true,
      "provenance": []
    },
    "kernelspec": {
      "name": "python3",
      "display_name": "Python 3"
    }
  },
  "cells": [
    {
      "cell_type": "markdown",
      "metadata": {
        "id": "D4vJTIeyyNx-"
      },
      "source": [
        "### 사이킷런(sklearn)의 LDA"
      ]
    },
    {
      "cell_type": "code",
      "metadata": {
        "id": "GUEmT9p2A2qR"
      },
      "source": [
        "# test dataset upload\r\n",
        "from google.colab import files\r\n",
        "myfile = files.upload()"
      ],
      "execution_count": null,
      "outputs": []
    },
    {
      "cell_type": "markdown",
      "metadata": {
        "id": "ymqPoFPzCdLr"
      },
      "source": [
        "캐글 경진대회에 사용된 Friends test 데이터를 이용함"
      ]
    },
    {
      "cell_type": "code",
      "metadata": {
        "id": "bf3cZL0SyNx_"
      },
      "source": [
        "import pandas as pd\n",
        "\n",
        "df = pd.read_csv('en_data.csv', encoding='utf-8')\n",
        "df.head(3)"
      ],
      "execution_count": null,
      "outputs": []
    },
    {
      "cell_type": "code",
      "metadata": {
        "id": "0Qi8WGseyNyA"
      },
      "source": [
        "from sklearn.feature_extraction.text import CountVectorizer\n",
        "\n",
        "count = CountVectorizer(stop_words='english',\n",
        "                        max_df=.1,\n",
        "                        max_features=5000)\n",
        "X = count.fit_transform(df['utterance'].values)"
      ],
      "execution_count": null,
      "outputs": []
    },
    {
      "cell_type": "code",
      "metadata": {
        "id": "H0e7WfUVyNyB"
      },
      "source": [
        "from sklearn.decomposition import LatentDirichletAllocation\n",
        "\n",
        "lda = LatentDirichletAllocation(n_components=10,\n",
        "                                random_state=123,\n",
        "                                learning_method='batch')\n",
        "X_topics = lda.fit_transform(X)"
      ],
      "execution_count": null,
      "outputs": []
    },
    {
      "cell_type": "code",
      "metadata": {
        "id": "j9svdZhDyNyC"
      },
      "source": [
        "lda.components_.shape"
      ],
      "execution_count": null,
      "outputs": []
    },
    {
      "cell_type": "code",
      "metadata": {
        "id": "xm21C4LpyNyD"
      },
      "source": [
        "n_top_words = 15\n",
        "feature_names = count.get_feature_names()\n",
        "\n",
        "for topic_idx, topic in enumerate(lda.components_):\n",
        "    print(\"토픽 %d:\" % (topic_idx + 1))\n",
        "    print(\" \".join([feature_names[i]\n",
        "                    for i in topic.argsort()\\\n",
        "                        [:-n_top_words - 1:-1]]))"
      ],
      "execution_count": null,
      "outputs": []
    },
    {
      "cell_type": "markdown",
      "metadata": {
        "id": "xY-dUFFRyNyE"
      },
      "source": [
        "각 토픽에서 가장 중요한 단어 다섯 개를 기반으로 LDA가 다음 토픽을 구별했다고 추측할 수 있습니다.\n",
        "\n",
        "1.\t일반적인 감탄사(hey,oh etc),레이첼\n",
        "2.\t안타까움, 폴, 잠\n",
        "3.  긍정,사랑\n",
        "4.\t감탄사,모니카\n",
        "5.\t일상적, 친구\n",
        "6.\t답답함,레이첼\n",
        "7.\t재미, 미안함, 바비\n",
        "8.\t놀람, 증오\n",
        "9.\t좋음, 조이\n",
        "10.\t미안함,챈들러,조이, 고양이"
      ]
    },
    {
      "cell_type": "markdown",
      "metadata": {
        "id": "Yveyq804yNyE"
      },
      "source": [
        "카테고리가 잘 선택됐는지 확인하기 위해 공포 영화 카테고리에서 3개 영화의 리뷰를 출력해 보죠(공포 영화는 카테고리 6이므로 인덱스는 5입니다):"
      ]
    },
    {
      "cell_type": "code",
      "metadata": {
        "scrolled": true,
        "id": "EgKYan-GyNyF"
      },
      "source": [
        "joy = X_topics[:, 5].argsort()[::-1]\n",
        "\n",
        "for iter_idx, movie_idx in enumerate(joy[:3]):\n",
        "    print('\\n프렌즈 #%d:' % (iter_idx + 1))\n",
        "    print(df['utterance'][movie_idx][:300], '...')"
      ],
      "execution_count": null,
      "outputs": []
    },
    {
      "cell_type": "markdown",
      "metadata": {
        "id": "2Zm80t9cyNyF"
      },
      "source": [
        "앞 코드에서 프렌즈 카테고리 중 최상위 3개의 대사에서 300자씩 출력했습니다. 정확히 어떤 상황에 속한 대사인지는 모르지만 시트콤 주 등장인물의 사건 관련의 대사임을 알 수 있습니다."
      ]
    }
  ]
}